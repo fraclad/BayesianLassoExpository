{
 "cells": [
  {
   "cell_type": "code",
   "execution_count": 1,
   "metadata": {},
   "outputs": [],
   "source": [
    "import os\n",
    "import numpy as np\n",
    "import scipy.stats as st\n",
    "import pandas as pd\n",
    "import matplotlib.pyplot as plt\n",
    "plt.rcParams[\"font.family\"] = \"Helvetica\"\n",
    "plt.rcParams[\"font.size\"] = 12\n",
    "plt.rcParams['figure.dpi']= 120\n",
    "from sklearn.preprocessing import StandardScaler\n",
    "from sklearn.linear_model import LinearRegression, Lasso, Ridge\n",
    "\n",
    "import seaborn as sns\n",
    "import pymc3 as pm\n",
    "\n",
    "seed = 2127"
   ]
  },
  {
   "cell_type": "code",
   "execution_count": 2,
   "metadata": {},
   "outputs": [
    {
     "data": {
      "text/html": [
       "<div>\n",
       "<style scoped>\n",
       "    .dataframe tbody tr th:only-of-type {\n",
       "        vertical-align: middle;\n",
       "    }\n",
       "\n",
       "    .dataframe tbody tr th {\n",
       "        vertical-align: top;\n",
       "    }\n",
       "\n",
       "    .dataframe thead th {\n",
       "        text-align: right;\n",
       "    }\n",
       "</style>\n",
       "<table border=\"1\" class=\"dataframe\">\n",
       "  <thead>\n",
       "    <tr style=\"text-align: right;\">\n",
       "      <th></th>\n",
       "      <th>Well</th>\n",
       "      <th>Por</th>\n",
       "      <th>Perm</th>\n",
       "      <th>AI</th>\n",
       "      <th>Brittle</th>\n",
       "      <th>TOC</th>\n",
       "      <th>VR</th>\n",
       "      <th>Prod</th>\n",
       "    </tr>\n",
       "  </thead>\n",
       "  <tbody>\n",
       "    <tr>\n",
       "      <th>0</th>\n",
       "      <td>-1.723412</td>\n",
       "      <td>-0.982256</td>\n",
       "      <td>-0.817030</td>\n",
       "      <td>-0.298603</td>\n",
       "      <td>2.358297</td>\n",
       "      <td>0.352948</td>\n",
       "      <td>1.152048</td>\n",
       "      <td>-1.399936</td>\n",
       "    </tr>\n",
       "    <tr>\n",
       "      <th>1</th>\n",
       "      <td>-1.706091</td>\n",
       "      <td>-0.881032</td>\n",
       "      <td>-0.463751</td>\n",
       "      <td>0.444147</td>\n",
       "      <td>-0.141332</td>\n",
       "      <td>-0.209104</td>\n",
       "      <td>-0.280931</td>\n",
       "      <td>-0.553322</td>\n",
       "    </tr>\n",
       "    <tr>\n",
       "      <th>2</th>\n",
       "      <td>-1.688771</td>\n",
       "      <td>-0.327677</td>\n",
       "      <td>-1.008148</td>\n",
       "      <td>1.841224</td>\n",
       "      <td>1.748113</td>\n",
       "      <td>-0.209104</td>\n",
       "      <td>2.518377</td>\n",
       "      <td>-0.859996</td>\n",
       "    </tr>\n",
       "    <tr>\n",
       "      <th>3</th>\n",
       "      <td>-1.671450</td>\n",
       "      <td>0.903875</td>\n",
       "      <td>1.401098</td>\n",
       "      <td>-0.599240</td>\n",
       "      <td>-0.592585</td>\n",
       "      <td>0.186414</td>\n",
       "      <td>-0.280931</td>\n",
       "      <td>0.919141</td>\n",
       "    </tr>\n",
       "    <tr>\n",
       "      <th>4</th>\n",
       "      <td>-1.654129</td>\n",
       "      <td>0.853263</td>\n",
       "      <td>0.138561</td>\n",
       "      <td>0.373409</td>\n",
       "      <td>-2.640962</td>\n",
       "      <td>1.081534</td>\n",
       "      <td>-0.214280</td>\n",
       "      <td>-0.648602</td>\n",
       "    </tr>\n",
       "  </tbody>\n",
       "</table>\n",
       "</div>"
      ],
      "text/plain": [
       "       Well       Por      Perm        AI   Brittle       TOC        VR  \\\n",
       "0 -1.723412 -0.982256 -0.817030 -0.298603  2.358297  0.352948  1.152048   \n",
       "1 -1.706091 -0.881032 -0.463751  0.444147 -0.141332 -0.209104 -0.280931   \n",
       "2 -1.688771 -0.327677 -1.008148  1.841224  1.748113 -0.209104  2.518377   \n",
       "3 -1.671450  0.903875  1.401098 -0.599240 -0.592585  0.186414 -0.280931   \n",
       "4 -1.654129  0.853263  0.138561  0.373409 -2.640962  1.081534 -0.214280   \n",
       "\n",
       "       Prod  \n",
       "0 -1.399936  \n",
       "1 -0.553322  \n",
       "2 -0.859996  \n",
       "3  0.919141  \n",
       "4 -0.648602  "
      ]
     },
     "execution_count": 2,
     "metadata": {},
     "output_type": "execute_result"
    }
   ],
   "source": [
    "data = pd.read_csv(\"unconv_MV_v4.csv\")\n",
    "scaler = StandardScaler()\n",
    "dataSt = pd.DataFrame(scaler.fit_transform(data))\n",
    "dataSt.columns = data.columns\n",
    "dataSt.head()"
   ]
  },
  {
   "cell_type": "code",
   "execution_count": 3,
   "metadata": {},
   "outputs": [
    {
     "data": {
      "text/html": [
       "<div>\n",
       "<style scoped>\n",
       "    .dataframe tbody tr th:only-of-type {\n",
       "        vertical-align: middle;\n",
       "    }\n",
       "\n",
       "    .dataframe tbody tr th {\n",
       "        vertical-align: top;\n",
       "    }\n",
       "\n",
       "    .dataframe thead th {\n",
       "        text-align: right;\n",
       "    }\n",
       "</style>\n",
       "<table border=\"1\" class=\"dataframe\">\n",
       "  <thead>\n",
       "    <tr style=\"text-align: right;\">\n",
       "      <th></th>\n",
       "      <th>Por</th>\n",
       "      <th>Perm</th>\n",
       "      <th>Brittle</th>\n",
       "      <th>Prod</th>\n",
       "    </tr>\n",
       "  </thead>\n",
       "  <tbody>\n",
       "    <tr>\n",
       "      <th>0</th>\n",
       "      <td>-0.982256</td>\n",
       "      <td>-0.817030</td>\n",
       "      <td>2.358297</td>\n",
       "      <td>-1.399936</td>\n",
       "    </tr>\n",
       "    <tr>\n",
       "      <th>1</th>\n",
       "      <td>-0.881032</td>\n",
       "      <td>-0.463751</td>\n",
       "      <td>-0.141332</td>\n",
       "      <td>-0.553322</td>\n",
       "    </tr>\n",
       "    <tr>\n",
       "      <th>2</th>\n",
       "      <td>-0.327677</td>\n",
       "      <td>-1.008148</td>\n",
       "      <td>1.748113</td>\n",
       "      <td>-0.859996</td>\n",
       "    </tr>\n",
       "    <tr>\n",
       "      <th>3</th>\n",
       "      <td>0.903875</td>\n",
       "      <td>1.401098</td>\n",
       "      <td>-0.592585</td>\n",
       "      <td>0.919141</td>\n",
       "    </tr>\n",
       "    <tr>\n",
       "      <th>4</th>\n",
       "      <td>0.853263</td>\n",
       "      <td>0.138561</td>\n",
       "      <td>-2.640962</td>\n",
       "      <td>-0.648602</td>\n",
       "    </tr>\n",
       "  </tbody>\n",
       "</table>\n",
       "</div>"
      ],
      "text/plain": [
       "        Por      Perm   Brittle      Prod\n",
       "0 -0.982256 -0.817030  2.358297 -1.399936\n",
       "1 -0.881032 -0.463751 -0.141332 -0.553322\n",
       "2 -0.327677 -1.008148  1.748113 -0.859996\n",
       "3  0.903875  1.401098 -0.592585  0.919141\n",
       "4  0.853263  0.138561 -2.640962 -0.648602"
      ]
     },
     "execution_count": 3,
     "metadata": {},
     "output_type": "execute_result"
    }
   ],
   "source": [
    "dataSt = dataSt[[\"Por\", \"Perm\", \"Brittle\", \"Prod\"]]\n",
    "dataSt.head()"
   ]
  },
  {
   "cell_type": "code",
   "execution_count": 4,
   "metadata": {},
   "outputs": [
    {
     "data": {
      "image/png": "[encoded data removed]",
      "text/plain": [
       "<Figure size 2160x600 with 3 Axes>"
      ]
     },
     "metadata": {
      "needs_background": "light"
     },
     "output_type": "display_data"
    }
   ],
   "source": [
    "fig, ax = plt.subplots(ncols = 3, figsize = (18,5), sharey = True)\n",
    "ax[0].scatter(dataSt[\"Por\"], dataSt[\"Prod\"], s = 4, color = \"black\")\n",
    "ax[0].set_ylabel(\"Prod [MMSCF]\")\n",
    "ax[0].set_xlabel(r\"$\\phi$\")\n",
    "ax[1].scatter(dataSt[\"Perm\"], dataSt[\"Prod\"], s = 4, color = \"black\")\n",
    "ax[1].set_xlabel(\"k [md]\")\n",
    "ax[2].scatter(dataSt[\"Brittle\"], dataSt[\"Prod\"], s = 4, color = \"black\")\n",
    "ax[2].set_xlabel(\"Brittleness\")\n",
    "plt.show()"
   ]
  },
  {
   "cell_type": "code",
   "execution_count": null,
   "metadata": {
    "scrolled": true
   },
   "outputs": [
    {
     "data": {
      "text/html": [
       "\n",
       "    <div>\n",
       "        <style>\n",
       "            /* Turns off some styling */\n",
       "            progress {\n",
       "                /* gets rid of default border in Firefox and Opera. */\n",
       "                border: none;\n",
       "                /* Needs to be in here for Safari polyfill so background images work as expected. */\n",
       "                background-size: auto;\n",
       "            }\n",
       "            .progress-bar-interrupted, .progress-bar-interrupted::-webkit-progress-bar {\n",
       "                background: #F44336;\n",
       "            }\n",
       "        </style>\n",
       "      <progress value='16' class='' max='16' style='width:300px; height:20px; vertical-align: middle;'></progress>\n",
       "      100.00% [16/16 00:00<00:00 logp = -124.8, ||grad|| = 12.878]\n",
       "    </div>\n",
       "    "
      ],
      "text/plain": [
       "<IPython.core.display.HTML object>"
      ]
     },
     "metadata": {},
     "output_type": "display_data"
    },
    {
     "name": "stdout",
     "output_type": "stream",
     "text": [
      "\n"
     ]
    },
    {
     "data": {
      "text/html": [
       "\n",
       "    <div>\n",
       "        <style>\n",
       "            /* Turns off some styling */\n",
       "            progress {\n",
       "                /* gets rid of default border in Firefox and Opera. */\n",
       "                border: none;\n",
       "                /* Needs to be in here for Safari polyfill so background images work as expected. */\n",
       "                background-size: auto;\n",
       "            }\n",
       "            .progress-bar-interrupted, .progress-bar-interrupted::-webkit-progress-bar {\n",
       "                background: #F44336;\n",
       "            }\n",
       "        </style>\n",
       "      <progress value='16' class='' max='16' style='width:300px; height:20px; vertical-align: middle;'></progress>\n",
       "      100.00% [16/16 00:00<00:00 logp = -124.27, ||grad|| = 12.829]\n",
       "    </div>\n",
       "    "
      ],
      "text/plain": [
       "<IPython.core.display.HTML object>"
      ]
     },
     "metadata": {},
     "output_type": "display_data"
    },
    {
     "name": "stdout",
     "output_type": "stream",
     "text": [
      "\n"
     ]
    },
    {
     "data": {
      "text/html": [
       "\n",
       "    <div>\n",
       "        <style>\n",
       "            /* Turns off some styling */\n",
       "            progress {\n",
       "                /* gets rid of default border in Firefox and Opera. */\n",
       "                border: none;\n",
       "                /* Needs to be in here for Safari polyfill so background images work as expected. */\n",
       "                background-size: auto;\n",
       "            }\n",
       "            .progress-bar-interrupted, .progress-bar-interrupted::-webkit-progress-bar {\n",
       "                background: #F44336;\n",
       "            }\n",
       "        </style>\n",
       "      <progress value='16' class='' max='16' style='width:300px; height:20px; vertical-align: middle;'></progress>\n",
       "      100.00% [16/16 00:00<00:00 logp = -123.75, ||grad|| = 12.764]\n",
       "    </div>\n",
       "    "
      ],
      "text/plain": [
       "<IPython.core.display.HTML object>"
      ]
     },
     "metadata": {},
     "output_type": "display_data"
    },
    {
     "name": "stdout",
     "output_type": "stream",
     "text": [
      "\n"
     ]
    },
    {
     "data": {
      "text/html": [
       "\n",
       "    <div>\n",
       "        <style>\n",
       "            /* Turns off some styling */\n",
       "            progress {\n",
       "                /* gets rid of default border in Firefox and Opera. */\n",
       "                border: none;\n",
       "                /* Needs to be in here for Safari polyfill so background images work as expected. */\n",
       "                background-size: auto;\n",
       "            }\n",
       "            .progress-bar-interrupted, .progress-bar-interrupted::-webkit-progress-bar {\n",
       "                background: #F44336;\n",
       "            }\n",
       "        </style>\n",
       "      <progress value='16' class='' max='16' style='width:300px; height:20px; vertical-align: middle;'></progress>\n",
       "      100.00% [16/16 00:00<00:00 logp = -123.25, ||grad|| = 12.677]\n",
       "    </div>\n",
       "    "
      ],
      "text/plain": [
       "<IPython.core.display.HTML object>"
      ]
     },
     "metadata": {},
     "output_type": "display_data"
    },
    {
     "name": "stdout",
     "output_type": "stream",
     "text": [
      "\n"
     ]
    },
    {
     "data": {
      "text/html": [
       "\n",
       "    <div>\n",
       "        <style>\n",
       "            /* Turns off some styling */\n",
       "            progress {\n",
       "                /* gets rid of default border in Firefox and Opera. */\n",
       "                border: none;\n",
       "                /* Needs to be in here for Safari polyfill so background images work as expected. */\n",
       "                background-size: auto;\n",
       "            }\n",
       "            .progress-bar-interrupted, .progress-bar-interrupted::-webkit-progress-bar {\n",
       "                background: #F44336;\n",
       "            }\n",
       "        </style>\n",
       "      <progress value='16' class='' max='16' style='width:300px; height:20px; vertical-align: middle;'></progress>\n",
       "      100.00% [16/16 00:00<00:00 logp = -122.76, ||grad|| = 12.559]\n",
       "    </div>\n",
       "    "
      ],
      "text/plain": [
       "<IPython.core.display.HTML object>"
      ]
     },
     "metadata": {},
     "output_type": "display_data"
    },
    {
     "name": "stdout",
     "output_type": "stream",
     "text": [
      "\n"
     ]
    },
    {
     "data": {
      "text/html": [
       "\n",
       "    <div>\n",
       "        <style>\n",
       "            /* Turns off some styling */\n",
       "            progress {\n",
       "                /* gets rid of default border in Firefox and Opera. */\n",
       "                border: none;\n",
       "                /* Needs to be in here for Safari polyfill so background images work as expected. */\n",
       "                background-size: auto;\n",
       "            }\n",
       "            .progress-bar-interrupted, .progress-bar-interrupted::-webkit-progress-bar {\n",
       "                background: #F44336;\n",
       "            }\n",
       "        </style>\n",
       "      <progress value='16' class='' max='16' style='width:300px; height:20px; vertical-align: middle;'></progress>\n",
       "      100.00% [16/16 00:00<00:00 logp = -122.29, ||grad|| = 12.397]\n",
       "    </div>\n",
       "    "
      ],
      "text/plain": [
       "<IPython.core.display.HTML object>"
      ]
     },
     "metadata": {},
     "output_type": "display_data"
    },
    {
     "name": "stdout",
     "output_type": "stream",
     "text": [
      "\n"
     ]
    },
    {
     "data": {
      "text/html": [
       "\n",
       "    <div>\n",
       "        <style>\n",
       "            /* Turns off some styling */\n",
       "            progress {\n",
       "                /* gets rid of default border in Firefox and Opera. */\n",
       "                border: none;\n",
       "                /* Needs to be in here for Safari polyfill so background images work as expected. */\n",
       "                background-size: auto;\n",
       "            }\n",
       "            .progress-bar-interrupted, .progress-bar-interrupted::-webkit-progress-bar {\n",
       "                background: #F44336;\n",
       "            }\n",
       "        </style>\n",
       "      <progress value='16' class='' max='16' style='width:300px; height:20px; vertical-align: middle;'></progress>\n",
       "      100.00% [16/16 00:00<00:00 logp = -121.85, ||grad|| = 12.173]\n",
       "    </div>\n",
       "    "
      ],
      "text/plain": [
       "<IPython.core.display.HTML object>"
      ]
     },
     "metadata": {},
     "output_type": "display_data"
    },
    {
     "name": "stdout",
     "output_type": "stream",
     "text": [
      "\n"
     ]
    },
    {
     "data": {
      "text/html": [
       "\n",
       "    <div>\n",
       "        <style>\n",
       "            /* Turns off some styling */\n",
       "            progress {\n",
       "                /* gets rid of default border in Firefox and Opera. */\n",
       "                border: none;\n",
       "                /* Needs to be in here for Safari polyfill so background images work as expected. */\n",
       "                background-size: auto;\n",
       "            }\n",
       "            .progress-bar-interrupted, .progress-bar-interrupted::-webkit-progress-bar {\n",
       "                background: #F44336;\n",
       "            }\n",
       "        </style>\n",
       "      <progress value='16' class='' max='16' style='width:300px; height:20px; vertical-align: middle;'></progress>\n",
       "      100.00% [16/16 00:00<00:00 logp = -121.44, ||grad|| = 11.859]\n",
       "    </div>\n",
       "    "
      ],
      "text/plain": [
       "<IPython.core.display.HTML object>"
      ]
     },
     "metadata": {},
     "output_type": "display_data"
    },
    {
     "name": "stdout",
     "output_type": "stream",
     "text": [
      "\n"
     ]
    }
   ],
   "source": [
    "x0 = dataSt[\"Por\"]\n",
    "x1 = dataSt[\"Perm\"]\n",
    "x2 = dataSt[\"Brittle\"]\n",
    "y = dataSt[\"Prod\"]\n",
    "\n",
    "beta0List = []\n",
    "beta1List = []\n",
    "beta2List = []\n",
    "lambdaList = np.logspace(-1,4, 60)\n",
    "\n",
    "for lambd in lambdaList:\n",
    "    with pm.Model() as bayesLasso:\n",
    "        # declare priors\n",
    "        intercept = pm.Flat(\"intercept\")\n",
    "        sigmaSq = pm.Exponential(\"sigma2\", lam = 1)\n",
    "        beta0 = pm.Laplace(\"beta0\", mu = 0, b = sigmaSq**0.5/lambd)\n",
    "        beta1 = pm.Laplace(\"beta1\", mu = 0, b = sigmaSq**0.5/lambd)\n",
    "        beta2 = pm.Laplace(\"beta2\", mu = 0, b = sigmaSq**0.5/lambd)\n",
    "\n",
    "        # construct model\n",
    "        modelMean = intercept + (beta0 * x0) + (beta1 * x1) + (beta2 * x2)\n",
    "\n",
    "        # define likelihood\n",
    "        likelihood = pm.Normal('likelihood', mu = modelMean, sd = sigmaSq**0.5, observed = y)\n",
    "\n",
    "        # set up posterior sampling \n",
    "        step = pm.NUTS(target_accept = 0.95)\n",
    "        start = pm.find_MAP()\n",
    "    \n",
    "    beta0List.append(float(start[\"beta0\"]))\n",
    "    beta1List.append(float(start[\"beta1\"]))\n",
    "    beta2List.append(float(start[\"beta2\"]))\n"
   ]
  },
  {
   "cell_type": "code",
   "execution_count": null,
   "metadata": {},
   "outputs": [],
   "source": [
    "X = dataSt[[\"Por\", \"Perm\", \"Brittle\"]]\n",
    "y = dataSt[\"Prod\"]\n",
    "\n",
    "coefsRidge = []\n",
    "coefsLasso = []\n",
    "\n",
    "for l in lambdaList:\n",
    "    model = Ridge(alpha = l)\n",
    "    model.fit(X,y)\n",
    "    coefsRidge.append(model.coef_)\n",
    "\n",
    "lambdaListLasso = np.logspace(-3,1,100)\n",
    "for l in lambdaListLasso:\n",
    "    model = Lasso(alpha = l)\n",
    "    model.fit(X,y)\n",
    "    coefsLasso.append(model.coef_)\n"
   ]
  },
  {
   "cell_type": "code",
   "execution_count": null,
   "metadata": {},
   "outputs": [],
   "source": [
    "fig, ax = plt.subplots(ncols = 3, figsize = (18,5), sharey = True)\n",
    "\n",
    "coefLassoArr = np.array(coefsLasso)\n",
    "labels = [\"Por\", \"Perm\", \"Brittle\"]\n",
    "for f in range(3):\n",
    "    ax[0].plot(lambdaListLasso, coefLassoArr[:,f], label = labels[f], lw = 1)\n",
    "ax[0].set_xscale('log')\n",
    "ax[0].set_xlabel(r\"$\\lambda$\")\n",
    "ax[0].set_title(\"Lasso\")\n",
    "ax[0].legend(frameon = False)\n",
    "ax[0].set_ylabel(\"Standardized Coef\")\n",
    "ax[0].set_ylim([0,1])\n",
    "\n",
    "ax[1].plot(lambdaList, beta0List, label = \"Por\", lw = 1)\n",
    "ax[1].plot(lambdaList, beta1List, label = \"Perm\", lw = 1)\n",
    "ax[1].plot(lambdaList, beta2List, label = \"Brittle\", lw = 1)\n",
    "ax[1].set_title(\"Bayesian Lasso\")\n",
    "ax[1].set_xlabel(r\"$\\lambda$\")\n",
    "\n",
    "ax[1].legend(frameon = False)\n",
    "ax[1].set_xscale('log')\n",
    "\n",
    "coefRidgeArr = np.array(coefsRidge)\n",
    "labels = [\"Por\", \"Perm\", \"Brittle\"]\n",
    "for f in range(3):\n",
    "    ax[2].plot(lambdaList, coefRidgeArr[:,f], label = labels[f], lw = 1)\n",
    "ax[2].set_xscale('log')\n",
    "ax[2].set_xlabel(r\"$\\lambda$\")\n",
    "ax[2].set_title(\"Ridge\")\n",
    "ax[2].legend(frameon = False)\n",
    "\n",
    "\n",
    "plt.tight_layout()\n",
    "plt.show()"
   ]
  }
 ],
 "metadata": {
  "kernelspec": {
   "display_name": "Python 3",
   "language": "python",
   "name": "python3"
  },
  "language_info": {
   "codemirror_mode": {
    "name": "ipython",
    "version": 3
   },
   "file_extension": ".py",
   "mimetype": "text/x-python",
   "name": "python",
   "nbconvert_exporter": "python",
   "pygments_lexer": "ipython3",
   "version": "3.8.5"
  }
 },
 "nbformat": 4,
 "nbformat_minor": 4
}
